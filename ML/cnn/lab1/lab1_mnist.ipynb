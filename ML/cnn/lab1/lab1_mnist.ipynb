{
  "cells": [
    {
      "cell_type": "code",
      "execution_count": 30,
      "metadata": {
        "id": "_epZXfryWUPb"
      },
      "outputs": [],
      "source": [
        "import numpy as np\n",
        "import pandas as pd \n",
        "from keras.preprocessing.image import ImageDataGenerator, load_img\n",
        "from keras.datasets.mnist import load_data\n",
        "from tensorflow.keras.utils import to_categorical\n",
        "\n",
        "import os\n",
        "import random\n",
        "import matplotlib.pyplot as plt\n",
        "\n",
        "# initialize parameters\n",
        "EPOCHS = 20\n",
        "IMAGE_SIZE = (28, 28)\n",
        "CHANNELS = 1\n",
        "CLASSES = 10\n",
        "TRAIN = 'mnist_train.csv'\n",
        "TEST = 'mnist_test.csv'\n",
        "# TRAIN_FOLDER = 'train'\n",
        "# TEST_FOLDER = 'test1'"
      ]
    },
    {
      "cell_type": "code",
      "execution_count": 31,
      "metadata": {
        "colab": {
          "base_uri": "https://localhost:8080/"
        },
        "id": "Kt1NKfCnWUPi",
        "outputId": "649543ec-cb09-4ae0-d716-1d292720abc9"
      },
      "outputs": [
        {
          "name": "stdout",
          "output_type": "stream",
          "text": [
            "x_train shape: (60000, 28, 28, 1)\n",
            "60000 train samples\n",
            "10000 test samples\n"
          ]
        }
      ],
      "source": [
        "# filenames = os.listdir(TRAIN_FOLDER)\n",
        "\n",
        "# train_set = {}\n",
        "\n",
        "# # load images and labels\n",
        "\n",
        "# for file in filenames:\n",
        "#     if file[:3] == 'cat':\n",
        "#         train_set[file] = 'cat'\n",
        "#     else:\n",
        "#         train_set[file] = 'dog'\n",
        "\n",
        "# train_set = pd.DataFrame(train_set.items(), columns=['filename', 'label'])\n",
        "# print(train_set.sample(frac=1).head())\n",
        "x_train, y_train = load_data()[0]\n",
        "x_test, y_test = load_data()[1]\n",
        "\n",
        "# rescale to [0, 1]\n",
        "x_train = x_train.astype(\"float32\") / 255\n",
        "x_test = x_test.astype(\"float32\") / 255\n",
        "\n",
        "# fix dimensions\n",
        "x_train = np.expand_dims(x_train, -1)\n",
        "x_test = np.expand_dims(x_test, -1)\n",
        "\n",
        "\n",
        "\n",
        "print(\"x_train shape:\", x_train.shape)\n",
        "print(x_train.shape[0], \"train samples\")\n",
        "print(x_test.shape[0], \"test samples\")\n",
        "\n",
        "\n",
        "# change data to categorical\n",
        "y_train = to_categorical(y_train, CLASSES)\n",
        "y_test = to_categorical(y_test, CLASSES)\n"
      ]
    },
    {
      "cell_type": "code",
      "execution_count": 32,
      "metadata": {
        "colab": {
          "base_uri": "https://localhost:8080/"
        },
        "id": "FOpA2L0EWUPk",
        "outputId": "2333bf33-c963-4af1-ecc2-e3efb3ed4e76"
      },
      "outputs": [
        {
          "name": "stdout",
          "output_type": "stream",
          "text": [
            "Model: \"sequential_4\"\n",
            "_________________________________________________________________\n",
            " Layer (type)                Output Shape              Param #   \n",
            "=================================================================\n",
            " conv2d_12 (Conv2D)          (None, 26, 26, 32)        320       \n",
            "                                                                 \n",
            " max_pooling2d_12 (MaxPoolin  (None, 13, 13, 32)       0         \n",
            " g2D)                                                            \n",
            "                                                                 \n",
            " conv2d_13 (Conv2D)          (None, 11, 11, 64)        18496     \n",
            "                                                                 \n",
            " max_pooling2d_13 (MaxPoolin  (None, 5, 5, 64)         0         \n",
            " g2D)                                                            \n",
            "                                                                 \n",
            " conv2d_14 (Conv2D)          (None, 3, 3, 128)         73856     \n",
            "                                                                 \n",
            " max_pooling2d_14 (MaxPoolin  (None, 1, 1, 128)        0         \n",
            " g2D)                                                            \n",
            "                                                                 \n",
            " flatten_4 (Flatten)         (None, 128)               0         \n",
            "                                                                 \n",
            " dense_8 (Dense)             (None, 512)               66048     \n",
            "                                                                 \n",
            " dense_9 (Dense)             (None, 10)                5130      \n",
            "                                                                 \n",
            "=================================================================\n",
            "Total params: 163,850\n",
            "Trainable params: 163,850\n",
            "Non-trainable params: 0\n",
            "_________________________________________________________________\n"
          ]
        }
      ],
      "source": [
        "from keras.models import Sequential\n",
        "from keras.layers import Conv2D, MaxPooling2D, Dropout, Flatten, Dense, Activation, BatchNormalization\n",
        "\n",
        "# Build CNN\n",
        "\n",
        "cnn = Sequential()\n",
        "\n",
        "# Convolution + Pooling\n",
        "\n",
        "cnn.add(Conv2D(32, (3,3), activation='relu', input_shape=(IMAGE_SIZE[0], IMAGE_SIZE[1], CHANNELS)))\n",
        "cnn.add(MaxPooling2D(pool_size=(2, 2)))\n",
        "\n",
        "cnn.add(Conv2D(64, (3,3), activation='relu'))\n",
        "cnn.add(MaxPooling2D(pool_size=(2, 2)))\n",
        "\n",
        "cnn.add(Conv2D(128, (3,3), activation='relu'))\n",
        "cnn.add(MaxPooling2D(pool_size=(2, 2)))\n",
        "\n",
        "# Flattening\n",
        "\n",
        "cnn.add(Flatten())\n",
        "\n",
        "# NN\n",
        "\n",
        "cnn.add(Dense(512, activation='relu'))\n",
        "cnn.add(Dense(10, activation='softmax'))\n",
        "\n",
        "cnn.compile(loss='categorical_crossentropy', optimizer='rmsprop', metrics=['accuracy'])\n",
        "\n",
        "cnn.summary()\n"
      ]
    },
    {
      "cell_type": "code",
      "execution_count": 33,
      "metadata": {
        "id": "7ee7SA0EaeZb"
      },
      "outputs": [],
      "source": [
        "# from sklearn.model_selection import train_test_split\n",
        "\n",
        "# split data into train and test sets\n",
        "# train, validate = train_test_split(train_set, test_size=0.20, random_state=42)\n",
        "# train = train.reset_index(drop=True)\n",
        "# validate = validate.reset_index(drop=True)"
      ]
    },
    {
      "cell_type": "code",
      "execution_count": 34,
      "metadata": {
        "colab": {
          "base_uri": "https://localhost:8080/"
        },
        "id": "xnqb08HQbIQQ",
        "outputId": "43d33371-d019-4183-efc0-c7c63b32a63d"
      },
      "outputs": [],
      "source": [
        "# # create generators to transform and load images\n",
        "# rescale = ImageDataGenerator(\n",
        "#     rescale=1./255,\n",
        "#     rotation_range=15,\n",
        "#     shear_range=0.1,\n",
        "#     zoom_range=0.2,\n",
        "#     # horizontal_flip=True,\n",
        "#     width_shift_range=0.1,\n",
        "#     height_shift_range=0.1\n",
        "# )\n",
        "\n",
        "# # generator = rescale.flow_from_dataframe(\n",
        "# #     train, \n",
        "# #     \"train/\", \n",
        "# #     x_col='filename',\n",
        "# #     y_col='label',\n",
        "# #     target_size=IMAGE_SIZE,\n",
        "# #     class_mode='categorical',\n",
        "# #     batch_size=16\n",
        "# # )\n",
        "\n",
        "# validation_datagen = ImageDataGenerator(rescale=1./255)\n",
        "# validation_generator = validation_datagen.flow_from_dataframe(\n",
        "#     validate, \n",
        "#     \"train\", \n",
        "#     x_col='filename',\n",
        "#     y_col='label',\n",
        "#     target_size=IMAGE_SIZE,\n",
        "#     class_mode='categorical',\n",
        "#     batch_size=16\n",
        "# )"
      ]
    },
    {
      "cell_type": "code",
      "execution_count": 35,
      "metadata": {
        "colab": {
          "background_save": true,
          "base_uri": "https://localhost:8080/"
        },
        "id": "2m2lOT_icYV4",
        "outputId": "d52a1011-e20e-46f0-8f7d-941b4f63e7ee"
      },
      "outputs": [
        {
          "name": "stdout",
          "output_type": "stream",
          "text": [
            "Epoch 1/20\n",
            "422/422 [==============================] - 17s 39ms/step - loss: 0.3284 - accuracy: 0.8940 - val_loss: 0.0745 - val_accuracy: 0.9807\n",
            "Epoch 2/20\n",
            "422/422 [==============================] - 16s 38ms/step - loss: 0.0836 - accuracy: 0.9738 - val_loss: 0.0494 - val_accuracy: 0.9865\n",
            "Epoch 3/20\n",
            "422/422 [==============================] - 16s 38ms/step - loss: 0.0553 - accuracy: 0.9827 - val_loss: 0.0695 - val_accuracy: 0.9785\n",
            "Epoch 4/20\n",
            "422/422 [==============================] - 16s 38ms/step - loss: 0.0403 - accuracy: 0.9876 - val_loss: 0.0462 - val_accuracy: 0.9878\n",
            "Epoch 5/20\n",
            "422/422 [==============================] - 18s 43ms/step - loss: 0.0308 - accuracy: 0.9906 - val_loss: 0.0604 - val_accuracy: 0.9832\n",
            "Epoch 6/20\n",
            "422/422 [==============================] - 17s 40ms/step - loss: 0.0251 - accuracy: 0.9924 - val_loss: 0.0484 - val_accuracy: 0.9873\n",
            "Epoch 7/20\n",
            "422/422 [==============================] - 17s 39ms/step - loss: 0.0191 - accuracy: 0.9942 - val_loss: 0.0507 - val_accuracy: 0.9873\n",
            "Epoch 8/20\n",
            "422/422 [==============================] - 17s 40ms/step - loss: 0.0151 - accuracy: 0.9954 - val_loss: 0.0495 - val_accuracy: 0.9880\n",
            "Epoch 9/20\n",
            "422/422 [==============================] - 17s 39ms/step - loss: 0.0123 - accuracy: 0.9957 - val_loss: 0.0705 - val_accuracy: 0.9858\n",
            "Epoch 10/20\n",
            "422/422 [==============================] - 18s 43ms/step - loss: 0.0116 - accuracy: 0.9962 - val_loss: 0.0512 - val_accuracy: 0.9903\n",
            "Epoch 11/20\n",
            "422/422 [==============================] - 19s 45ms/step - loss: 0.0094 - accuracy: 0.9968 - val_loss: 0.0708 - val_accuracy: 0.9878\n",
            "Epoch 12/20\n",
            "422/422 [==============================] - 18s 42ms/step - loss: 0.0076 - accuracy: 0.9975 - val_loss: 0.0569 - val_accuracy: 0.9905\n",
            "Epoch 13/20\n",
            "422/422 [==============================] - 19s 46ms/step - loss: 0.0075 - accuracy: 0.9974 - val_loss: 0.0776 - val_accuracy: 0.9863\n",
            "Epoch 14/20\n",
            "422/422 [==============================] - 18s 42ms/step - loss: 0.0069 - accuracy: 0.9978 - val_loss: 0.0656 - val_accuracy: 0.9898\n",
            "Epoch 15/20\n",
            "422/422 [==============================] - 17s 41ms/step - loss: 0.0066 - accuracy: 0.9983 - val_loss: 0.0812 - val_accuracy: 0.9877\n",
            "Epoch 16/20\n",
            "422/422 [==============================] - 17s 41ms/step - loss: 0.0059 - accuracy: 0.9982 - val_loss: 0.0688 - val_accuracy: 0.9893\n",
            "Epoch 17/20\n",
            "422/422 [==============================] - 17s 41ms/step - loss: 0.0058 - accuracy: 0.9983 - val_loss: 0.0790 - val_accuracy: 0.9892\n",
            "Epoch 18/20\n",
            "422/422 [==============================] - 17s 41ms/step - loss: 0.0057 - accuracy: 0.9985 - val_loss: 0.0749 - val_accuracy: 0.9885\n",
            "Epoch 19/20\n",
            "422/422 [==============================] - 17s 39ms/step - loss: 0.0052 - accuracy: 0.9987 - val_loss: 0.0896 - val_accuracy: 0.9885\n",
            "Epoch 20/20\n",
            "422/422 [==============================] - 17s 41ms/step - loss: 0.0047 - accuracy: 0.9985 - val_loss: 0.0868 - val_accuracy: 0.9885\n"
          ]
        }
      ],
      "source": [
        "# total_train = train.shape[0]\n",
        "# total_validate = validate.shape[0]\n",
        "batch_size = 128 # 16\n",
        "\n",
        "# generate cnn and train\n",
        "\n",
        "# history = cnn.fit_generator(\n",
        "#     generator, \n",
        "#     epochs=EPOCHS,\n",
        "#     validation_data=validation_generator,\n",
        "#     validation_steps=total_validate//batch_size,\n",
        "#     steps_per_epoch=total_train//batch_size,\n",
        "#     callbacks=callbacks\n",
        "# )\n",
        "history = cnn.fit(x_train, y_train, batch_size=batch_size, epochs=EPOCHS, validation_split=0.1)"
      ]
    },
    {
      "cell_type": "code",
      "execution_count": 38,
      "metadata": {
        "id": "MNj-kUEMD6t5"
      },
      "outputs": [],
      "source": [
        "\n",
        "# save model and weights\n",
        "cnn.save(\"mnist.h5\")\n",
        "cnn.save_weights(\"mnist_weights.h5\")"
      ]
    },
    {
      "cell_type": "code",
      "execution_count": 39,
      "metadata": {
        "id": "gLC08WZ8YjKC"
      },
      "outputs": [
        {
          "data": {
            "image/png": "[encoded data removed]",
            "text/plain": [
              "<Figure size 864x864 with 2 Axes>"
            ]
          },
          "metadata": {
            "needs_background": "light"
          },
          "output_type": "display_data"
        }
      ],
      "source": [
        "# plot data\n",
        "fig, (ax1, ax2) = plt.subplots(2, 1, figsize=(12, 12))\n",
        "ax1.plot(history.history['loss'], color='b', label=\"Training loss\")\n",
        "ax1.plot(history.history['val_loss'], color='r', label=\"Validation loss\")\n",
        "ax1.set_xticks(np.arange(1, 25, 1))\n",
        "ax1.legend(loc='best', shadow=True)\n",
        "\n",
        "ax2.plot(history.history['accuracy'], color='b', label=\"Training accuracy\")\n",
        "ax2.plot(history.history['val_accuracy'], color='r',label=\"Validation accuracy\")\n",
        "ax2.set_xticks(np.arange(1, 25, 1))\n",
        "ax2.legend(loc='best', shadow=True)\n",
        "\n",
        "plt.tight_layout()\n",
        "plt.show()"
      ]
    }
  ],
  "metadata": {
    "colab": {
      "collapsed_sections": [],
      "name": "lab1.ipynb",
      "provenance": []
    },
    "interpreter": {
      "hash": "2db524e06e9f5f4ffedc911c917cb75e12dbc923643829bf417064a77eb14d37"
    },
    "kernelspec": {
      "display_name": "Python 3.8.5 64-bit",
      "language": "python",
      "name": "python3"
    },
    "language_info": {
      "codemirror_mode": {
        "name": "ipython",
        "version": 3
      },
      "file_extension": ".py",
      "mimetype": "text/x-python",
      "name": "python",
      "nbconvert_exporter": "python",
      "pygments_lexer": "ipython3",
      "version": "3.8.6"
    }
  },
  "nbformat": 4,
  "nbformat_minor": 0
}
